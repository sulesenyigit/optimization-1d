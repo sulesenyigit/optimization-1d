{
  "nbformat": 4,
  "nbformat_minor": 0,
  "metadata": {
    "colab": {
      "name": "least_squares_gradient_descent.ipynb",
      "provenance": [],
      "authorship_tag": "ABX9TyPXFNndszHYjqSfNE354xS0",
      "include_colab_link": true
    },
    "kernelspec": {
      "name": "python3",
      "display_name": "Python 3"
    },
    "language_info": {
      "name": "python"
    }
  },
  "cells": [
    {
      "cell_type": "markdown",
      "metadata": {
        "id": "view-in-github",
        "colab_type": "text"
      },
      "source": [
        "<a href=\"https://colab.research.google.com/github/gumushane-eem-eesec-440/optimization-1d/blob/main/code/least_squares_gradient_descent.ipynb\" target=\"_parent\"><img src=\"https://colab.research.google.com/assets/colab-badge.svg\" alt=\"Open In Colab\"/></a>"
      ]
    },
    {
      "cell_type": "markdown",
      "metadata": {
        "id": "cgOhbkrKiRZN"
      },
      "source": [
        "# 13. Hafta\n",
        "Merhaba arkadaşlar, EESEC 440 Mesleki İngilizce dersimizin 13. haftasına hoşgeldiniz. Bu derste, 6. haftada MATLAB'da kodlamaya başladığımız ve arasınavda karşımıza çıkan bir boyutlu optimizasyon problemini Python ile Google COLAB ortamında hem nümerik hem de analitik olarak çözeceğiz.\n",
        "Her zaman olduğu gibi ilk önce gerekli kütüphaneleri dahil ediyoruz. Bu sefer Tensorflow kütüphanesini dahil etmemize gerek yok, çünkü öğrenme (**LEARNING**) (veya optimizasyon - **OPTIMIZATION**) dediğimiz süreci kendimiz adım adım (**step by step**) yapacağız. Yani hazır fonksiyonlarla (**built-in**) değil de kendi yazdığımız fonksiyonlarla (**user-defined functions**) gerçekleyeceğiz."
      ]
    },
    {
      "cell_type": "code",
      "metadata": {
        "id": "rM17QBL3jgtR"
      },
      "source": [
        "import numpy as np\n",
        "import matplotlib.pyplot as plt"
      ],
      "execution_count": 12,
      "outputs": []
    },
    {
      "cell_type": "markdown",
      "metadata": {
        "id": "UbT5hJ-IN2d5"
      },
      "source": [
        "MATLAB'da giriş ve hedef verilerini çalışma alanına txt dosyasından okumuştuk, burada kendimiz oluşturalım."
      ]
    },
    {
      "cell_type": "code",
      "metadata": {
        "colab": {
          "base_uri": "https://localhost:8080/"
        },
        "id": "izpU2BF1nXUH",
        "outputId": "db0a4627-24c5-49c6-f04a-95e9d52bf448"
      },
      "source": [
        "xdata = np.array([[-5],[-4.5],[-4],[-3.5],[-3],[-2.5],[-2],[-1.5],[-1],[-0.5],[0],\\\n",
        "                  [0.5],[1.0],[1.5],[2.0],[2.5],[3.0],[3.5],[4.0],[4.5],[5.0]],\"float32\")\n",
        "tdata = np.array([[-6.5930],[-6.6869],[-4.8374],[-6.4320],[-3.7876],[-5.5401],[-1.7953],\\\n",
        "                  [-1.5357],[0.2840],[-2.3838],[1.6338],[0.7898],[1.9596],[1.5143],\\\n",
        "                  [1.3099],[5.1525],[3.0781],[4.7319],[6.4896],[8.7402],[7.5694]],\"float32\")\n",
        "print('x = ', xdata)\n",
        "print('t = ', tdata)"
      ],
      "execution_count": 13,
      "outputs": [
        {
          "output_type": "stream",
          "text": [
            "x =  [[-5. ]\n",
            " [-4.5]\n",
            " [-4. ]\n",
            " [-3.5]\n",
            " [-3. ]\n",
            " [-2.5]\n",
            " [-2. ]\n",
            " [-1.5]\n",
            " [-1. ]\n",
            " [-0.5]\n",
            " [ 0. ]\n",
            " [ 0.5]\n",
            " [ 1. ]\n",
            " [ 1.5]\n",
            " [ 2. ]\n",
            " [ 2.5]\n",
            " [ 3. ]\n",
            " [ 3.5]\n",
            " [ 4. ]\n",
            " [ 4.5]\n",
            " [ 5. ]]\n",
            "t =  [[-6.593 ]\n",
            " [-6.6869]\n",
            " [-4.8374]\n",
            " [-6.432 ]\n",
            " [-3.7876]\n",
            " [-5.5401]\n",
            " [-1.7953]\n",
            " [-1.5357]\n",
            " [ 0.284 ]\n",
            " [-2.3838]\n",
            " [ 1.6338]\n",
            " [ 0.7898]\n",
            " [ 1.9596]\n",
            " [ 1.5143]\n",
            " [ 1.3099]\n",
            " [ 5.1525]\n",
            " [ 3.0781]\n",
            " [ 4.7319]\n",
            " [ 6.4896]\n",
            " [ 8.7402]\n",
            " [ 7.5694]]\n"
          ],
          "name": "stdout"
        }
      ]
    },
    {
      "cell_type": "markdown",
      "metadata": {
        "id": "7uhvC1LnOHGU"
      },
      "source": [
        "# Nümerik Çözüm\n",
        "Şimdi de çözümü aynen MATLAB'da en küçük kareler (**least squares**) yaklaşımı ve eğim düşümü (**gradient descent**) tekniğiyle bulduğumuz gibi burada Python ile **nümerik** olarak bulalım.\n",
        "\\begin{equation}\n",
        "L = \\frac{1}{2}e^2 \\;\\;\\;\\;\\;\\; e = t - y \\;\\;\\;\\;\\;\\; y = ax \\\\\n",
        "\\end{equation}\n",
        "\\begin{equation}\n",
        "a_{k+1} = a_k - \\alpha\\frac{\\partial L}{\\partial a} \\\\\n",
        "\\end{equation}\n",
        "\\begin{equation}\n",
        "\\frac{\\partial L}{\\partial a} = \\frac{\\partial L}{\\partial e} \\frac{\\partial e}{\\partial y} \\frac{\\partial y}{\\partial a} \\\\\n",
        "\\end{equation}\n",
        "\\begin{equation}\n",
        "\\frac{\\partial L}{\\partial a} = e (-1) x \\\\\n",
        "\\end{equation}\n",
        "\\begin{equation}\n",
        "\\frac{\\partial L}{\\partial a} = -(t-y) x \\\\\n",
        "\\end{equation}\n",
        "\\begin{equation}\n",
        "\\frac{\\partial L}{\\partial a} = -(t-ax) x \\\\\n",
        "\\end{equation}\n",
        "\\begin{equation}\n",
        "a_{k+1} = \\displaystyle a_k + \\alpha(t-a_kx)x \\\\\n",
        "\\end{equation}"
      ]
    },
    {
      "cell_type": "code",
      "metadata": {
        "id": "iHxSTJF7N0vT"
      },
      "source": [
        "n = 7 # epoche number 500\n",
        "a0 = 10 # başlangıç değeri (initial value for parameter a)\n",
        "a = a0\n",
        "alpha = 0.005; # adım büyüklüğü - step size 0.0005\n",
        "i = 1 # index for epoch number\n",
        "while i <= n:\n",
        "  for j, x in enumerate(xdata): # x = xdata[j]\n",
        "    a = a + alpha*(tdata[j]-a*x)*x # eğim düşümü yöntemi (gradient descent) ile parametreyi güncelliyoruz\n",
        "  i = i + 1"
      ],
      "execution_count": 19,
      "outputs": []
    },
    {
      "cell_type": "markdown",
      "metadata": {
        "id": "aq2hGdopRyn4"
      },
      "source": [
        "Nümerik olarak elde ettiğimiz optimal a değerini yani a* değerini ekrana basalım."
      ]
    },
    {
      "cell_type": "code",
      "metadata": {
        "colab": {
          "base_uri": "https://localhost:8080/"
        },
        "id": "Zl73GnFhR8L4",
        "outputId": "b7452559-73fe-4a46-8a5f-351c6ce40c14"
      },
      "source": [
        "print('Eğim düşümü (gradient descent) yöntemi ile nümerik olarak elde ettiğimiz kendi çözümümüz olan a = ', a);"
      ],
      "execution_count": 20,
      "outputs": [
        {
          "output_type": "stream",
          "text": [
            "Eğim düşümü (gradient descent) yöntemi ile nümerik olarak elde ettiğimiz kendi çözümümüz olan a =  [1.486232]\n"
          ],
          "name": "stdout"
        }
      ]
    },
    {
      "cell_type": "markdown",
      "metadata": {
        "id": "ZiK3Q77WVGec"
      },
      "source": [
        "# Analitik (Kapalı veya Matematiksel) Çözüm\n",
        "Yukarıda sonucu nümerik olarak elde ettik. Mühendisler daha çok nümerik çözümlerle, matematikçiler-fizikçiler gibi bilim adamları ise daha çok analitik çözümlerle (yani matematiksel kapalı formlarla) ilgilenirler. Peki biz sonucu biraz doğrusal cebir bilgilerimizden faydalanarak nümerik olarak değil de analitik olarak elde edebilir miydik?"
      ]
    },
    {
      "cell_type": "markdown",
      "metadata": {
        "id": "v4mblgcQYQMF"
      },
      "source": [
        "\\begin{equation}\n",
        "\\mathbf{x} a = \\mathbf{t} \\\\\n",
        "\\end{equation}\n",
        "\\begin{equation}\n",
        "\\mathbf{x^{T}}\\mathbf{x}a = \\mathbf{x^{T}}t \\\\\n",
        "\\end{equation}\n",
        "\\begin{equation}\n",
        "a = (\\mathbf{x^{T}}\\mathbf{x})^{-1}\\mathbf{x^{T}}t \\\\\n",
        "\\end{equation}\n",
        "Eğer a bir boyutlu ise (yani skalar ise), o zaman çözüm aşağıdaki hale gelir:\n",
        "\\begin{equation}\n",
        "a = \\displaystyle \\frac{\\mathbf{x^{T}}t}{(\\mathbf{x^{T}}\\mathbf{x})} \\\\\n",
        "\\end{equation}\n"
      ]
    },
    {
      "cell_type": "code",
      "metadata": {
        "colab": {
          "base_uri": "https://localhost:8080/"
        },
        "id": "5eFO-8q5Vux2",
        "outputId": "6252af0b-9615-4293-8206-35b3ffe77a1b"
      },
      "source": [
        "# a = np.linalg.inv(x.transpose()*x)*x.transpose()*t\n",
        "a = np.matmul(xdata.transpose(),tdata) / np.matmul(xdata.transpose(),xdata)\n",
        "print('En küçük kareler yöntemi ile analitik olarak elde ettiğimiz kendi çözümümüz olan a = ', a)"
      ],
      "execution_count": 14,
      "outputs": [
        {
          "output_type": "stream",
          "text": [
            "En küçük kareler yöntemi ile analitik olarak elde ettiğimiz kendi çözümümüz olan a =  [[1.4856727]]\n"
          ],
          "name": "stdout"
        }
      ]
    }
  ]
}