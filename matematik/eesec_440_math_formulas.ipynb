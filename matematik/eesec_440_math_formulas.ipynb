{
  "nbformat": 4,
  "nbformat_minor": 0,
  "metadata": {
    "colab": {
      "name": "eesec_440_math_formulas.ipynb",
      "provenance": [],
      "authorship_tag": "ABX9TyNUv2K0YkAycu2zuDotHbdC",
      "include_colab_link": true
    },
    "kernelspec": {
      "name": "python3",
      "display_name": "Python 3"
    },
    "language_info": {
      "name": "python"
    }
  },
  "cells": [
    {
      "cell_type": "markdown",
      "metadata": {
        "id": "view-in-github",
        "colab_type": "text"
      },
      "source": [
        "<a href=\"https://colab.research.google.com/github/gumushane-eem-eesec-440/optimization-1d/blob/main/math/eesec_440_math_formulas.ipynb\" target=\"_parent\"><img src=\"https://colab.research.google.com/assets/colab-badge.svg\" alt=\"Open In Colab\"/></a>"
      ]
    },
    {
      "cell_type": "markdown",
      "metadata": {
        "id": "0050oM4pVQZj"
      },
      "source": [
        "\\begin{equation}\n",
        "n = \\sum_{i=1}^{k-1}(n_i+1)n_{i+1}\n",
        "\\end{equation}\n",
        "\n"
      ]
    },
    {
      "cell_type": "markdown",
      "metadata": {
        "id": "sIEQJ3aAobvU"
      },
      "source": [
        "\\begin{equation}\n",
        "L = \\frac{1}{2}e^2 \\;\\;\\;\\;\\;\\; e = t - y \\;\\;\\;\\;\\;\\; y = ax \\\\\n",
        "\\end{equation}\n",
        "\\begin{equation}\n",
        "a_{k+1} = a_k - \\alpha\\frac{\\partial L}{\\partial a} \\\\\n",
        "\\end{equation}\n",
        "\\begin{equation}\n",
        "\\frac{\\partial L}{\\partial a} = \\frac{\\partial L}{\\partial e} \\frac{\\partial e}{\\partial y} \\frac{\\partial y}{\\partial a} \\\\\n",
        "\\end{equation}\n",
        "\\begin{equation}\n",
        "\\frac{\\partial L}{\\partial a} = e (-1) x \\\\\n",
        "\\end{equation}\n",
        "\\begin{equation}\n",
        "\\frac{\\partial L}{\\partial a} = -(t-y) x \\\\\n",
        "\\end{equation}\n",
        "\\begin{equation}\n",
        "\\frac{\\partial L}{\\partial a} = -(t-ax) x \\\\\n",
        "\\end{equation}\n",
        "\\begin{equation}\n",
        "a_{k+1} = \\displaystyle a_k + \\alpha(t-ax)x \\\\\n",
        "\\end{equation}"
      ]
    }
  ]
}